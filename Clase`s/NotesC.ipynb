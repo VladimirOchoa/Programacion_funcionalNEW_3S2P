{
 "cells": [
  {
   "cell_type": "markdown",
   "metadata": {},
   "source": [
    "Buscar ID"
   ]
  },
  {
   "cell_type": "code",
   "execution_count": null,
   "metadata": {},
   "outputs": [],
   "source": [
    "x = 10\n",
    "id(x)"
   ]
  },
  {
   "cell_type": "code",
   "execution_count": null,
   "metadata": {},
   "outputs": [],
   "source": [
    "def a():\n",
    "    x = \"Hola\"\n",
    "    print(x)\n",
    "    \n",
    "def b():\n",
    "    x = \"Hello\"\n",
    "    print(x)\n",
    "    \n",
    "x = \"Hi\"\n",
    "a()\n",
    "b()\n",
    "print(x)"
   ]
  },
  {
   "cell_type": "code",
   "execution_count": null,
   "metadata": {},
   "outputs": [],
   "source": [
    "def a():\n",
    "    x = \"Hola\"\n",
    "    print(f\"{x}: {id(x)}\")\n",
    "    \n",
    "def b():\n",
    "    x = \"Hola\"\n",
    "    print(f\"{x}: {id(x)}\")\n",
    "    \n",
    "x = \"Hola\"\n",
    "a()\n",
    "b()\n",
    "print(f\"{x}: {id(x)}\")"
   ]
  },
  {
   "cell_type": "markdown",
   "metadata": {},
   "source": [
    "#### En esta parte definimos \"x\" como una variable global, por lo cual esta puede ser usada en cualquier parte del programa."
   ]
  },
  {
   "cell_type": "code",
   "execution_count": null,
   "metadata": {},
   "outputs": [],
   "source": [
    "def c():\n",
    "    global x\n",
    "    x = \"Bye\"\n",
    "    print(id(x))\n",
    "    \n",
    "c()\n",
    "print(id(x))\n",
    "x = 10\n",
    "print(id(x))\n",
    "\n",
    "def d():\n",
    "    print(x)\n",
    "d()"
   ]
  },
  {
   "cell_type": "markdown",
   "metadata": {},
   "source": [
    "Para que pueda recibir correctamente Python lo que recibe debes de mandarlo de forma ordenada."
   ]
  },
  {
   "cell_type": "code",
   "execution_count": null,
   "metadata": {},
   "outputs": [],
   "source": [
    "def productos(producto, cantidad, precio):\n",
    "    print(f\"{producto} {cantidad} {precio}\")\n",
    "    \n",
    "    productos(\"Manzanas\", \"3\", \"$5\")\n",
    "    \n",
    "    print(productos)\n"
   ]
  },
  {
   "cell_type": "markdown",
   "metadata": {},
   "source": [
    "\n",
    "Si tu definieras que valor contiene cada argumento podrias cambiar el orden y este va a respetar los parametros del orden, si tu le cambias el nombre al identificador este no funcionara correctamente, cuando quiero manejar argumentos nombrados y no nombrados, todos los que van NOMBRADOS los va a poner hasta el final."
   ]
  },
  {
   "cell_type": "markdown",
   "metadata": {},
   "source": [
    "Si tu defines una funcion y dentro de esta realizar los argumentos puedes usarla de forma vacia.\n"
   ]
  },
  {
   "cell_type": "markdown",
   "metadata": {},
   "source": [
    "# Class 03/10/23"
   ]
  },
  {
   "cell_type": "code",
   "execution_count": null,
   "metadata": {},
   "outputs": [],
   "source": [
    "def suma(a:int=0, b:int=0):\n",
    "    print (a + b)"
   ]
  },
  {
   "cell_type": "code",
   "execution_count": null,
   "metadata": {},
   "outputs": [],
   "source": [
    "x = 10\n",
    "id(x)"
   ]
  },
  {
   "cell_type": "code",
   "execution_count": null,
   "metadata": {},
   "outputs": [],
   "source": [
    "x = 11\n",
    "id(x)"
   ]
  },
  {
   "cell_type": "markdown",
   "metadata": {},
   "source": [
    "A pesar de que x tenga dos valores diferentes las localidades donde se almacena se siguen usando, no se borran, es recomendable usar estructuras que ahorren memoria para no acabarnosla."
   ]
  },
  {
   "cell_type": "code",
   "execution_count": null,
   "metadata": {},
   "outputs": [],
   "source": [
    "numero = 10\n",
    "id(numero)"
   ]
  },
  {
   "cell_type": "markdown",
   "metadata": {},
   "source": [
    "Podemos notar que la variable numero y la variable x que almacenan el valor de 10 se encuentran dentro de la misma localidad"
   ]
  },
  {
   "cell_type": "code",
   "execution_count": null,
   "metadata": {},
   "outputs": [],
   "source": [
    "global num\n",
    "num = 5\n",
    "print(id(num))\n",
    "\n",
    "def a():\n",
    "    print (num)\n",
    "    print(id(a))\n",
    "    #num = 10\n",
    "    \n",
    "def b():\n",
    "    y = num + 10\n",
    "    print(id(b))\n",
    "    print(y)\n",
    "    \n",
    "a()\n",
    "b()\n",
    "num = 10\n",
    "print(num)\n",
    "\n",
    "x = 5\n",
    "print(\"*\"*20)\n",
    "print(id(x))\n",
    "\n",
    "c()\n",
    "print(x)\n",
    "print(id(x))"
   ]
  },
  {
   "cell_type": "markdown",
   "metadata": {},
   "source": [
    "Tenemos una variable que se llama num, esta puede ser usada en cualquier parte del programa ya que es una variable global, sin embargo dentro de la funcion que no almacena nada tambien se puede usar, sin embargo este es un error de logica."
   ]
  },
  {
   "cell_type": "markdown",
   "metadata": {},
   "source": [
    "Es mucho mejor utilizar "
   ]
  },
  {
   "cell_type": "code",
   "execution_count": null,
   "metadata": {},
   "outputs": [],
   "source": [
    "def f(my_list=None):\n",
    "    if my_list is None:\n",
    "        my_list = []\n",
    "    my_list.append(\"###\")\n",
    "    return my_list\n",
    "\n",
    "print(f())\n",
    "print(f())\n",
    "print(f())\n",
    "    "
   ]
  },
  {
   "cell_type": "markdown",
   "metadata": {},
   "source": [
    "Los valores falsos de Python son None, 0, False. "
   ]
  },
  {
   "cell_type": "markdown",
   "metadata": {},
   "source": [
    "# Class 06/10/23"
   ]
  },
  {
   "cell_type": "code",
   "execution_count": null,
   "metadata": {},
   "outputs": [],
   "source": [
    "def f(a,b,c,d):\n",
    "    print(f'a');\n",
    "    print(f'b');\n",
    "    print(f'c');\n",
    "    \n",
    "    \n",
    "h = {'a':\"Hugo\", 'b':\"Paco\", 'c':3, 'd':4}\n",
    "    "
   ]
  },
  {
   "cell_type": "code",
   "execution_count": null,
   "metadata": {},
   "outputs": [],
   "source": [
    "def f(a, b, *args, **kwargs):\n",
    "    print(f'a = {a}')\n",
    "    print(f'b = {b}')\n",
    "    print(f'args = {args}')\n",
    "    print(f'kwargs = {kwargs}')\n",
    "\n",
    "\n",
    "f(1, 2, 'Hugo', 'Paco', 'Luis', x=5, y=10, z=15)"
   ]
  },
  {
   "cell_type": "markdown",
   "metadata": {},
   "source": [
    "Recuerda que van en orden los argumentos, ya que si coloco primero un argumento diccionario y despues un tupla, todo los consecuentes despues del argumento diccionario deben de ser diccionario."
   ]
  },
  {
   "cell_type": "markdown",
   "metadata": {},
   "source": [
    "# Class 13/10/23"
   ]
  },
  {
   "cell_type": "code",
   "execution_count": null,
   "metadata": {},
   "outputs": [],
   "source": [
    "from timeit import timeit\n",
    "\n",
    "timeit(\"print(string)\", setup=\"string='Hola mundo'\", number=100)"
   ]
  },
  {
   "cell_type": "markdown",
   "metadata": {},
   "source": [
    "# Class 17/10/23"
   ]
  },
  {
   "cell_type": "markdown",
   "metadata": {},
   "source": [
    "## Documentación y comentarios."
   ]
  },
  {
   "cell_type": "markdown",
   "metadata": {},
   "source": []
  }
 ],
 "metadata": {
  "kernelspec": {
   "display_name": "Python 3",
   "language": "python",
   "name": "python3"
  },
  "language_info": {
   "codemirror_mode": {
    "name": "ipython",
    "version": 3
   },
   "file_extension": ".py",
   "mimetype": "text/x-python",
   "name": "python",
   "nbconvert_exporter": "python",
   "pygments_lexer": "ipython3",
   "version": "3.11.5"
  }
 },
 "nbformat": 4,
 "nbformat_minor": 2
}
